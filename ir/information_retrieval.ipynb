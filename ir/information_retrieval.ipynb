{
 "cells": [
  {
   "attachments": {},
   "cell_type": "markdown",
   "metadata": {},
   "source": [
    "In this notebook we implement a simple information retrieval system using inverted index for indexer and we will return the documents using a ranking algoritm based of number of occurences the term has appeared in the documents\n",
    "\n",
    "# Indexing system"
   ]
  },
  {
   "cell_type": "code",
   "execution_count": 1,
   "metadata": {},
   "outputs": [],
   "source": [
    "#!pip install nltk\n",
    "#!pip install pandas"
   ]
  },
  {
   "cell_type": "code",
   "execution_count": 47,
   "metadata": {},
   "outputs": [
    {
     "name": "stderr",
     "output_type": "stream",
     "text": [
      "[nltk_data] Downloading package punkt to /home/tsakalos/nltk_data...\n",
      "[nltk_data]   Package punkt is already up-to-date!\n",
      "[nltk_data] Downloading package stopwords to\n",
      "[nltk_data]     /home/tsakalos/nltk_data...\n",
      "[nltk_data]   Package stopwords is already up-to-date!\n",
      "[nltk_data] Downloading package wordnet to /home/tsakalos/nltk_data...\n",
      "[nltk_data]   Package wordnet is already up-to-date!\n",
      "[nltk_data] Downloading package omw-1.4 to /home/tsakalos/nltk_data...\n",
      "[nltk_data]   Package omw-1.4 is already up-to-date!\n"
     ]
    },
    {
     "data": {
      "text/plain": [
       "True"
      ]
     },
     "execution_count": 47,
     "metadata": {},
     "output_type": "execute_result"
    }
   ],
   "source": [
    "import re\n",
    "\n",
    "import nltk\n",
    "import pandas as pd\n",
    "from nltk.corpus import stopwords\n",
    "from nltk.stem import PorterStemmer, WordNetLemmatizer\n",
    "from nltk.tokenize import word_tokenize\n",
    "\n",
    "nltk.download('punkt')\n",
    "nltk.download('stopwords')\n",
    "nltk.download('wordnet')\n",
    "nltk.download('omw-1.4')"
   ]
  },
  {
   "cell_type": "code",
   "execution_count": 48,
   "metadata": {},
   "outputs": [],
   "source": [
    "\n",
    "def preprocess_doc(text: str) -> list:\n",
    "\n",
    "    # clean text\n",
    "    text = text.replace(\"\\n\", \" \")\n",
    "    text = text.strip()\n",
    "    text = re.sub(r'[^\\w]', ' ', text)\n",
    "\n",
    "    # normalisation, case-folding\n",
    "    text = text.lower()\n",
    "\n",
    "    # tokenise\n",
    "    word_tokens = word_tokenize(text)\n",
    "\n",
    "    # remove stop words\n",
    "    stop_words = set(stopwords.words('english'))\n",
    "    filtered_word_tokens = [w for w in word_tokens if w not in stop_words]\n",
    "\n",
    "    # retrieve stem from words\n",
    "    ps = PorterStemmer()\n",
    "    stemming = []\n",
    "\n",
    "    for w in filtered_word_tokens:\n",
    "        stem = ps.stem(w)\n",
    "        stemming.append(stem)\n",
    "\n",
    "    # retrieve lemma from words\n",
    "    wordnet_lemmatizer = WordNetLemmatizer()\n",
    "\n",
    "    lemmatization = []\n",
    "    for w in stemming:\n",
    "        lemma = wordnet_lemmatizer.lemmatize(w)\n",
    "        lemmatization.append(lemma)\n",
    "\n",
    "    return lemmatization\n"
   ]
  },
  {
   "cell_type": "code",
   "execution_count": 49,
   "metadata": {},
   "outputs": [],
   "source": [
    "def create_inverted_index(\n",
    "  documents: dict,\n",
    "  inverted_index: dict) -> dict:\n",
    "    \n",
    "    for id, doc in documents.items():\n",
    "\n",
    "      doc = preprocess_doc(doc)\n",
    "\n",
    "      for w in doc:\n",
    "        if w in inverted_index:\n",
    "          if id in inverted_index[w]:\n",
    "            inverted_index[w][id] += 1\n",
    "          else:\n",
    "            inverted_index[w][id] = 1\n",
    "        else:\n",
    "          inverted_index[w] = {id: 1}\n",
    "\n",
    "    return inverted_index"
   ]
  },
  {
   "cell_type": "code",
   "execution_count": 50,
   "metadata": {},
   "outputs": [],
   "source": [
    "documents = {\n",
    "    \"Doc 1\": \"This is a document about information retrieval.\",\n",
    "    \"Doc 2\": \"This is a document about medium topics related to data.\",\n",
    "    \"Doc 3\": \"This is an article related to mediocre tables.\",\n",
    "    \"Doc 4\": \"Completely irrelevant document.\",\n",
    "    \"Doc 5\": \"Pythagoras of Samos[a] (Ancient Greek: Πυθαγόρας ὁ Σάμιος, romanized: Pythagóras ho Sámios, lit. 'Pythagoras the Samian', or simply Πυθαγόρας; Πυθαγόρης in Ionian Greek; c. 570 – c. 495 BC)[b] was an ancient Ionian Greek philosopher and the eponymous founder of Pythagoreanism. His political and religious teachings were well known in Magna Graecia and influenced the philosophies of Plato, Aristotle, and, through them, the West in general. Knowledge of his life is clouded by legend, but he appears to have been the son of Mnesarchus, a gem-engraver on the island of Samos. Modern scholars disagree regarding Pythagoras's education and influences, but they do agree that, around 530 BC, he travelled to Croton in southern Italy, where he founded a school in which initiates were sworn to secrecy and lived a communal, ascetic lifestyle. This lifestyle entailed a number of dietary prohibitions, traditionally said to have included vegetarianism, although modern scholars doubt that he ever advocated complete vegetarianism.\",\n",
    "    \"Doc 6\": \"Leonardo di ser Piero da Vinci[b] (15 April 1452 – 2 May 1519) was an Italian polymath of the High Renaissance who was active as a painter, draughtsman, engineer, scientist, theorist, sculptor, and architect.[3] While his fame initially rested on his achievements as a painter, he also became known for his notebooks, in which he made drawings and notes on a variety of subjects, including anatomy, astronomy, botany, cartography, painting, and paleontology. Leonardo is widely regarded to have been a genius who epitomized the Renaissance humanist ideal,[4] and his collective works comprise a contribution to later generations of artists matched only by that of his younger contemporary, Michelangelo.\",\n",
    "    \"Doc 7\": \"Another document about information retrieval. Information retrieval is very informative. It offers you information.\",\n",
    "    \"Doc 8\": \"Another document about information.\",\n",
    "    \"Doc 9\": \"Arithmetic is the branch of mathematics that deals with the study of numbers using various operations on them, which is taught in elementary school. Algebra is taught in high school which is also branch of mathematics.\",\n",
    "    \"Doc 10\": \"Mathematics is an area of knowledge that includes the topics of numbers, formulas and related structures, shapes and the spaces in which they are contained, and quantities and their changes.\",\n",
    "    \"Doc 11\": \"Geometry is branch of mathematics. Calculus is branch of mathematics. Discrete mathematics is branch of mathematics.\"\n",
    "}"
   ]
  },
  {
   "cell_type": "code",
   "execution_count": 51,
   "metadata": {},
   "outputs": [],
   "source": [
    "def create_sorted_inverted_index(documents: dict) -> dict:\n",
    "    \n",
    "  inverted_index = create_inverted_index(documents, dict())\n",
    "  sort_inverted_index = dict()\n",
    "  for i in inverted_index.keys():\n",
    "    sort_inverted_index[i] = sorted(\n",
    "      inverted_index[i].items(), key=lambda x:x[0], reverse=True)\n",
    "\n",
    "  return sort_inverted_index"
   ]
  },
  {
   "attachments": {},
   "cell_type": "markdown",
   "metadata": {},
   "source": [
    "# Query system\n",
    "\n",
    "For the query system, let's implement a simple query system which returns the 3 documents that contain the most number of words matched in the query."
   ]
  },
  {
   "cell_type": "code",
   "execution_count": 52,
   "metadata": {},
   "outputs": [],
   "source": [
    "def intersect_posting(ii1: list, ii2: list):\n",
    "\n",
    "  a1 = [x[0] for x in ii1]\n",
    "  a2 = [x[0] for x in ii2]\n",
    "  answers = []\n",
    "  i = 0\n",
    "  j = 0\n",
    "  while i < len(a1) and j < len(a2):\n",
    "    if a1[i] == a2[j]:\n",
    "      answers.append((a1[i], sum([ii1[i][1], ii2[j][1]])))\n",
    "      i += 1\n",
    "      j += 1\n",
    "    elif a1[i] < a2[j]:\n",
    "      i += 1\n",
    "    else:\n",
    "      j += 1\n",
    "  return answers"
   ]
  },
  {
   "cell_type": "code",
   "execution_count": 53,
   "metadata": {},
   "outputs": [],
   "source": [
    "def sort_frequency(inverted_index: dict, query_list: list):\n",
    "  term_freq = dict()\n",
    "  for q in query_list:\n",
    "    doc_list = inverted_index.get(q, (None, 0))\n",
    "    term_freq[q] = sum([x[1] for x in doc_list])\n",
    "  sorted_terms = sorted(term_freq.items(), key=lambda x:x[1])\n",
    "  sorted_terms = [x[0] for x in sorted_terms]\n",
    "  return sorted_terms\n"
   ]
  },
  {
   "cell_type": "code",
   "execution_count": 54,
   "metadata": {},
   "outputs": [],
   "source": [
    "def rest(terms: list):\n",
    "  try:\n",
    "    terms = terms[1:]\n",
    "  except:\n",
    "    terms = None\n",
    "  return terms"
   ]
  },
  {
   "cell_type": "code",
   "execution_count": 55,
   "metadata": {},
   "outputs": [],
   "source": [
    "\n",
    "def intersect(query: str, sort_inverted_index: dict) -> list:\n",
    "  query_list = preprocess_doc(query)\n",
    "  terms = sort_frequency(sort_inverted_index, query_list)\n",
    "  first_term = terms[0]\n",
    "  result = sort_inverted_index[first_term]\n",
    "  # rest of terms\n",
    "  terms = rest(terms)\n",
    "  while len(terms) > 0 and len(terms) > 0:\n",
    "    first_term = terms[0]\n",
    "    terms = rest(terms)\n",
    "    result = intersect_posting(result, sort_inverted_index[first_term])\n",
    "  return result"
   ]
  },
  {
   "attachments": {},
   "cell_type": "markdown",
   "metadata": {},
   "source": [
    "# Evaluation metrics\n"
   ]
  },
  {
   "cell_type": "code",
   "execution_count": 56,
   "metadata": {},
   "outputs": [],
   "source": [
    "inverted_index = create_sorted_inverted_index(documents)"
   ]
  },
  {
   "cell_type": "code",
   "execution_count": 57,
   "metadata": {},
   "outputs": [],
   "source": [
    "def construct_eval_df(query_list: list, documents: dict, labels: tuple):\n",
    "  inverted_index = create_sorted_inverted_index(documents)\n",
    "  results = pd.DataFrame([], columns = [\"Documents\", \"Frequency\", \"Query\", \"rank\"])\n",
    "\n",
    "  for q in query_list:\n",
    "    query = preprocess_doc(q)\n",
    "    temp_results = intersect(query, inverted_index)\n",
    "    temp_results = pd.DataFrame(temp_results, columns=[\"Documents\", \"Frequency\"])\n",
    "    temp_results[\"Query\"] = q\n",
    "    temp_results[\"rank\"] = temp_results[\"Frequency\"].rank(method='dense', ascending=False)\n",
    "    results = pd.concat((results, temp_results), axis=0)\n",
    "\n",
    "  labels = pd.DataFrame(labels, columns=[\"Query\", \"Documents\"])\n",
    "  labels[\"IsRelevant\"] = 1\n",
    "\n",
    "  results = results.merge(labels, how=\"left\")\n",
    "  results[\"IsRelevant\"].fillna(0, inplace=True)\n",
    "  return results"
   ]
  },
  {
   "cell_type": "code",
   "execution_count": 58,
   "metadata": {},
   "outputs": [
    {
     "data": {
      "text/plain": [
       "[('Doc 8', 1), ('Doc 7', 1), ('Doc 4', 1), ('Doc 2', 1), ('Doc 1', 1)]"
      ]
     },
     "execution_count": 58,
     "metadata": {},
     "output_type": "execute_result"
    }
   ],
   "source": [
    "inverted_index = create_sorted_inverted_index(documents)\n",
    "inverted_index[\"document\"]"
   ]
  },
  {
   "cell_type": "code",
   "execution_count": 59,
   "metadata": {},
   "outputs": [
    {
     "data": {
      "text/plain": [
       "[('Doc 8', 1), ('Doc 7', 1), ('Doc 4', 1), ('Doc 2', 1), ('Doc 1', 1)]"
      ]
     },
     "execution_count": 59,
     "metadata": {},
     "output_type": "execute_result"
    }
   ],
   "source": [
    "[('Doc 8', 1), ('Doc 7', 1), ('Doc 4', 1), ('Doc 2', 1), ('Doc 1', 1)]"
   ]
  },
  {
   "cell_type": "code",
   "execution_count": 60,
   "metadata": {},
   "outputs": [],
   "source": [
    "labels = (\n",
    "    (\"Engineer or Scientist\", \"\"),\n",
    "    (\"Information RETrieval\", \"Doc 7\"),\n",
    "    (\"Mathematics\", \"Doc 10\")\n",
    ")"
   ]
  },
  {
   "cell_type": "code",
   "execution_count": 61,
   "metadata": {},
   "outputs": [],
   "source": [
    "query_list = [\"Engineer or Scientist\", \"Information RETrieval\", \"Mathematics\"]"
   ]
  },
  {
   "cell_type": "code",
   "execution_count": 62,
   "metadata": {},
   "outputs": [
    {
     "data": {
      "text/plain": [
       "['inform', 'retriev']"
      ]
     },
     "execution_count": 62,
     "metadata": {},
     "output_type": "execute_result"
    }
   ],
   "source": [
    "preprocess_doc(\"Information RETrieval\")"
   ]
  },
  {
   "cell_type": "code",
   "execution_count": 63,
   "metadata": {},
   "outputs": [
    {
     "ename": "AttributeError",
     "evalue": "'list' object has no attribute 'replace'",
     "output_type": "error",
     "traceback": [
      "\u001b[0;31m---------------------------------------------------------------------------\u001b[0m",
      "\u001b[0;31mAttributeError\u001b[0m                            Traceback (most recent call last)",
      "Cell \u001b[0;32mIn[63], line 1\u001b[0m\n\u001b[0;32m----> 1\u001b[0m eval_df \u001b[39m=\u001b[39m construct_eval_df(query_list, documents, labels)\n",
      "Cell \u001b[0;32mIn[57], line 7\u001b[0m, in \u001b[0;36mconstruct_eval_df\u001b[0;34m(query_list, documents, labels)\u001b[0m\n\u001b[1;32m      5\u001b[0m \u001b[39mfor\u001b[39;00m q \u001b[39min\u001b[39;00m query_list:\n\u001b[1;32m      6\u001b[0m   query \u001b[39m=\u001b[39m preprocess_doc(q)\n\u001b[0;32m----> 7\u001b[0m   temp_results \u001b[39m=\u001b[39m intersect(query, inverted_index)\n\u001b[1;32m      8\u001b[0m   temp_results \u001b[39m=\u001b[39m pd\u001b[39m.\u001b[39mDataFrame(temp_results, columns\u001b[39m=\u001b[39m[\u001b[39m\"\u001b[39m\u001b[39mDocuments\u001b[39m\u001b[39m\"\u001b[39m, \u001b[39m\"\u001b[39m\u001b[39mFrequency\u001b[39m\u001b[39m\"\u001b[39m])\n\u001b[1;32m      9\u001b[0m   temp_results[\u001b[39m\"\u001b[39m\u001b[39mQuery\u001b[39m\u001b[39m\"\u001b[39m] \u001b[39m=\u001b[39m q\n",
      "Cell \u001b[0;32mIn[55], line 2\u001b[0m, in \u001b[0;36mintersect\u001b[0;34m(query, sort_inverted_index)\u001b[0m\n\u001b[1;32m      1\u001b[0m \u001b[39mdef\u001b[39;00m \u001b[39mintersect\u001b[39m(query: \u001b[39mstr\u001b[39m, sort_inverted_index: \u001b[39mdict\u001b[39m) \u001b[39m-\u001b[39m\u001b[39m>\u001b[39m \u001b[39mlist\u001b[39m:\n\u001b[0;32m----> 2\u001b[0m   query_list \u001b[39m=\u001b[39m preprocess_doc(query)\n\u001b[1;32m      3\u001b[0m   terms \u001b[39m=\u001b[39m sort_frequency(sort_inverted_index, query_list)\n\u001b[1;32m      4\u001b[0m   first_term \u001b[39m=\u001b[39m terms[\u001b[39m0\u001b[39m]\n",
      "Cell \u001b[0;32mIn[48], line 4\u001b[0m, in \u001b[0;36mpreprocess_doc\u001b[0;34m(text)\u001b[0m\n\u001b[1;32m      1\u001b[0m \u001b[39mdef\u001b[39;00m \u001b[39mpreprocess_doc\u001b[39m(text: \u001b[39mstr\u001b[39m) \u001b[39m-\u001b[39m\u001b[39m>\u001b[39m \u001b[39mlist\u001b[39m:\n\u001b[1;32m      2\u001b[0m \n\u001b[1;32m      3\u001b[0m     \u001b[39m# clean text\u001b[39;00m\n\u001b[0;32m----> 4\u001b[0m     text \u001b[39m=\u001b[39m text\u001b[39m.\u001b[39;49mreplace(\u001b[39m\"\u001b[39m\u001b[39m\\n\u001b[39;00m\u001b[39m\"\u001b[39m, \u001b[39m\"\u001b[39m\u001b[39m \u001b[39m\u001b[39m\"\u001b[39m)\n\u001b[1;32m      5\u001b[0m     text \u001b[39m=\u001b[39m text\u001b[39m.\u001b[39mstrip()\n\u001b[1;32m      6\u001b[0m     text \u001b[39m=\u001b[39m re\u001b[39m.\u001b[39msub(\u001b[39mr\u001b[39m\u001b[39m'\u001b[39m\u001b[39m[^\u001b[39m\u001b[39m\\\u001b[39m\u001b[39mw]\u001b[39m\u001b[39m'\u001b[39m, \u001b[39m'\u001b[39m\u001b[39m \u001b[39m\u001b[39m'\u001b[39m, text)\n",
      "\u001b[0;31mAttributeError\u001b[0m: 'list' object has no attribute 'replace'"
     ]
    }
   ],
   "source": [
    "eval_df = construct_eval_df(query_list, documents, labels)"
   ]
  },
  {
   "cell_type": "code",
   "execution_count": 64,
   "metadata": {},
   "outputs": [
    {
     "ename": "NameError",
     "evalue": "name 'eval_df' is not defined",
     "output_type": "error",
     "traceback": [
      "\u001b[0;31m---------------------------------------------------------------------------\u001b[0m",
      "\u001b[0;31mNameError\u001b[0m                                 Traceback (most recent call last)",
      "Cell \u001b[0;32mIn[64], line 1\u001b[0m\n\u001b[0;32m----> 1\u001b[0m eval_df\n",
      "\u001b[0;31mNameError\u001b[0m: name 'eval_df' is not defined"
     ]
    }
   ],
   "source": [
    "eval_df"
   ]
  },
  {
   "attachments": {},
   "cell_type": "markdown",
   "metadata": {},
   "source": [
    "## Mean reciprocal rank"
   ]
  },
  {
   "cell_type": "code",
   "execution_count": 65,
   "metadata": {},
   "outputs": [],
   "source": [
    "def mean_reciprocal_rank(df: pd.DataFrame) -> float:\n",
    "\n",
    "    # we have only one or no document matching the information need\n",
    "    df[\"reciprocal_rank\"] = df[\"IsRelevant\"] / df[\"rank\"]\n",
    "\n",
    "    mean_rr = df.groupby([\"Query\"])[\"reciprocal_rank\"].max().mean()\n",
    "\n",
    "    return mean_rr"
   ]
  },
  {
   "cell_type": "code",
   "execution_count": 66,
   "metadata": {},
   "outputs": [
    {
     "ename": "NameError",
     "evalue": "name 'eval_df' is not defined",
     "output_type": "error",
     "traceback": [
      "\u001b[0;31m---------------------------------------------------------------------------\u001b[0m",
      "\u001b[0;31mNameError\u001b[0m                                 Traceback (most recent call last)",
      "Cell \u001b[0;32mIn[66], line 1\u001b[0m\n\u001b[0;32m----> 1\u001b[0m mean_reciprocal_rank(eval_df)\n",
      "\u001b[0;31mNameError\u001b[0m: name 'eval_df' is not defined"
     ]
    }
   ],
   "source": [
    "mean_reciprocal_rank(eval_df)"
   ]
  },
  {
   "attachments": {},
   "cell_type": "markdown",
   "metadata": {},
   "source": [
    "## Mean average precision\n"
   ]
  },
  {
   "cell_type": "code",
   "execution_count": 67,
   "metadata": {},
   "outputs": [],
   "source": [
    "def mean_average_precision(df) -> float:\n",
    "\n",
    "    for q in df[\"Query\"].unique():\n",
    "        ranks = sorted(df[df[\"Query\"] == q][\"rank\"].unique())\n",
    "        query_precision = list()\n",
    "        for r in ranks:\n",
    "            precision = df[(df[\"Query\"] == q) & (\n",
    "                df[\"rank\"] >= r)][\"IsRelevant\"].max() / r\n",
    "            query_precision.append(precision)\n",
    "        query_precision.append(sum(query_precision) / len(query_precision))\n",
    "    map = sum(query_precision) / len(query_precision)\n",
    "    return map"
   ]
  },
  {
   "cell_type": "code",
   "execution_count": 68,
   "metadata": {},
   "outputs": [
    {
     "ename": "NameError",
     "evalue": "name 'eval_df' is not defined",
     "output_type": "error",
     "traceback": [
      "\u001b[0;31m---------------------------------------------------------------------------\u001b[0m",
      "\u001b[0;31mNameError\u001b[0m                                 Traceback (most recent call last)",
      "Cell \u001b[0;32mIn[68], line 1\u001b[0m\n\u001b[0;32m----> 1\u001b[0m mean_average_precision(eval_df)\n",
      "\u001b[0;31mNameError\u001b[0m: name 'eval_df' is not defined"
     ]
    }
   ],
   "source": [
    "mean_average_precision(eval_df)"
   ]
  },
  {
   "attachments": {},
   "cell_type": "markdown",
   "metadata": {},
   "source": [
    "# Logging retriever"
   ]
  },
  {
   "cell_type": "code",
   "execution_count": 69,
   "metadata": {},
   "outputs": [],
   "source": [
    "logs = open(\"data/app.log\")\n",
    "sentence = dict()\n",
    "for i, l in enumerate(logs):\n",
    "  sentence[i] = l\n"
   ]
  },
  {
   "cell_type": "code",
   "execution_count": 70,
   "metadata": {},
   "outputs": [
    {
     "data": {
      "text/plain": [
       "3628800"
      ]
     },
     "execution_count": 70,
     "metadata": {},
     "output_type": "execute_result"
    }
   ],
   "source": [
    "len(sentence.keys())"
   ]
  },
  {
   "cell_type": "code",
   "execution_count": 25,
   "metadata": {},
   "outputs": [
    {
     "data": {
      "text/plain": [
       "13241500"
      ]
     },
     "execution_count": 25,
     "metadata": {},
     "output_type": "execute_result"
    }
   ],
   "source": [
    "len(sentence.keys())"
   ]
  },
  {
   "cell_type": "code",
   "execution_count": 71,
   "metadata": {},
   "outputs": [],
   "source": [
    "inverted_index = create_sorted_inverted_index(sentence)"
   ]
  },
  {
   "cell_type": "code",
   "execution_count": null,
   "metadata": {},
   "outputs": [],
   "source": [
    "results = pd.DataFrame([], columns = [\"Documents\", \"Frequency\", \"Query\", \"rank\"])"
   ]
  },
  {
   "cell_type": "code",
   "execution_count": null,
   "metadata": {},
   "outputs": [],
   "source": [
    "\n",
    "\n",
    "results = pd.DataFrame([], columns = [\"Documents\", \"Frequency\", \"Query\", \"rank\"])\n",
    "\n",
    "for q in query_list:\n",
    "  query = preprocess_doc(q)\n",
    "  temp_results = intersect(query, inverted_index)\n",
    "  temp_results = pd.DataFrame(temp_results, columns=[\"Documents\", \"Frequency\"])\n",
    "  temp_results[\"Query\"] = q\n",
    "  temp_results[\"rank\"] = temp_results[\"Frequency\"].rank(method='dense', ascending=False)\n",
    "  results = pd.concat((results, temp_results), axis=0)\n",
    "\n",
    "labels = pd.DataFrame(labels, columns=[\"Query\", \"Documents\"])\n",
    "labels[\"IsRelevant\"] = 1"
   ]
  },
  {
   "cell_type": "code",
   "execution_count": null,
   "metadata": {},
   "outputs": [],
   "source": []
  }
 ],
 "metadata": {
  "kernelspec": {
   "display_name": "Python 3",
   "language": "python",
   "name": "python3"
  },
  "language_info": {
   "codemirror_mode": {
    "name": "ipython",
    "version": 3
   },
   "file_extension": ".py",
   "mimetype": "text/x-python",
   "name": "python",
   "nbconvert_exporter": "python",
   "pygments_lexer": "ipython3",
   "version": "3.10.6"
  },
  "orig_nbformat": 4,
  "vscode": {
   "interpreter": {
    "hash": "916dbcbb3f70747c44a77c7bcd40155683ae19c65e1c03b4aa3499c5328201f1"
   }
  }
 },
 "nbformat": 4,
 "nbformat_minor": 2
}
