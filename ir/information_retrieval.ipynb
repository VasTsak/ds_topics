{
 "cells": [
  {
   "attachments": {},
   "cell_type": "markdown",
   "metadata": {},
   "source": [
    "In this notebook we implement a simple information retrieval system using inverted index for indexer and we will return the documents using a ranking algoritm based of number of occurences the term has appeared in the documents\n",
    "\n",
    "# Indexing system"
   ]
  },
  {
   "cell_type": "code",
   "execution_count": 1,
   "metadata": {},
   "outputs": [],
   "source": [
    "#!pip install nltk\n",
    "#!pip install pandas"
   ]
  },
  {
   "cell_type": "code",
   "execution_count": 2,
   "metadata": {},
   "outputs": [
    {
     "name": "stderr",
     "output_type": "stream",
     "text": [
      "[nltk_data] Downloading package punkt to /home/tsakalos/nltk_data...\n",
      "[nltk_data]   Package punkt is already up-to-date!\n",
      "[nltk_data] Downloading package stopwords to\n",
      "[nltk_data]     /home/tsakalos/nltk_data...\n",
      "[nltk_data]   Package stopwords is already up-to-date!\n",
      "[nltk_data] Downloading package wordnet to /home/tsakalos/nltk_data...\n",
      "[nltk_data]   Package wordnet is already up-to-date!\n",
      "[nltk_data] Downloading package omw-1.4 to /home/tsakalos/nltk_data...\n",
      "[nltk_data]   Package omw-1.4 is already up-to-date!\n"
     ]
    },
    {
     "data": {
      "text/plain": [
       "True"
      ]
     },
     "execution_count": 2,
     "metadata": {},
     "output_type": "execute_result"
    }
   ],
   "source": [
    "import nltk\n",
    "import re\n",
    "\n",
    "from nltk.corpus import stopwords\n",
    "from nltk.tokenize import word_tokenize\n",
    "from nltk.stem import PorterStemmer\n",
    "from nltk.stem import WordNetLemmatizer\n",
    "import pandas as pd\n",
    "\n",
    "nltk.download('punkt')\n",
    "nltk.download('stopwords')\n",
    "nltk.download('wordnet')\n",
    "nltk.download('omw-1.4')"
   ]
  },
  {
   "cell_type": "code",
   "execution_count": 3,
   "metadata": {},
   "outputs": [],
   "source": [
    "def preprocess_doc(text: str) -> list:\n",
    "\n",
    "  # clean text\n",
    "  text = text.replace(\"\\n\", \" \")\n",
    "  text = text.strip()\n",
    "  text = re.sub(r'[^\\w]', ' ', text)\n",
    "\n",
    "  # normalisation, case-folding\n",
    "  text = text.lower()\n",
    "\n",
    "  # tokenise\n",
    "  word_tokens = word_tokenize(text)\n",
    "\n",
    "  # remove stop words\n",
    "  stop_words = set(stopwords.words('english'))\n",
    "  filtered_word_tokens = [w for w in word_tokens if not w in stop_words]\n",
    "\n",
    "  # retrieve stem from words\n",
    "  ps = PorterStemmer()\n",
    "  stemming = []\n",
    "\n",
    "  for w in filtered_word_tokens:\n",
    "    stem = ps.stem(w)\n",
    "    stemming.append(stem)\n",
    "  \n",
    "  # retrieve lemma from words\n",
    "  wordnet_lemmatizer = WordNetLemmatizer()\n",
    "\n",
    "  lemmatization = []\n",
    "  for w in stemming:\n",
    "    lemma = wordnet_lemmatizer.lemmatize(w)\n",
    "    lemmatization.append(lemma)\n",
    "\n",
    "  return lemmatization\n"
   ]
  },
  {
   "cell_type": "code",
   "execution_count": 4,
   "metadata": {},
   "outputs": [],
   "source": [
    "def create_inverted_index(documents: dict, inverted_index: dict) -> dict:\n",
    "    \n",
    "    for id, doc in documents.items():\n",
    "\n",
    "      doc = preprocess_doc(doc)\n",
    "\n",
    "      for w in doc:\n",
    "        if w in inverted_index:\n",
    "          if id in inverted_index[w]:\n",
    "            inverted_index[w][id] += 1\n",
    "          else:\n",
    "            inverted_index[w][id] = 1\n",
    "        else:\n",
    "          inverted_index[w] = {id: 1}\n",
    "\n",
    "    return inverted_index\n"
   ]
  },
  {
   "cell_type": "code",
   "execution_count": 5,
   "metadata": {},
   "outputs": [],
   "source": [
    "documents = {\n",
    "    \"Doc 1\": \"This is a document about information retrieval.\",\n",
    "    \"Doc 2\": \"This is a document about medium topics related to data.\",\n",
    "    \"Doc 3\": \"This is an article related to mediocre tables.\",\n",
    "    \"Doc 4\": \"Completely irrelevant document.\",\n",
    "    \"Doc 5\": \"Pythagoras of Samos[a] (Ancient Greek: Πυθαγόρας ὁ Σάμιος, romanized: Pythagóras ho Sámios, lit. 'Pythagoras the Samian', or simply Πυθαγόρας; Πυθαγόρης in Ionian Greek; c. 570 – c. 495 BC)[b] was an ancient Ionian Greek philosopher and the eponymous founder of Pythagoreanism. His political and religious teachings were well known in Magna Graecia and influenced the philosophies of Plato, Aristotle, and, through them, the West in general. Knowledge of his life is clouded by legend, but he appears to have been the son of Mnesarchus, a gem-engraver on the island of Samos. Modern scholars disagree regarding Pythagoras's education and influences, but they do agree that, around 530 BC, he travelled to Croton in southern Italy, where he founded a school in which initiates were sworn to secrecy and lived a communal, ascetic lifestyle. This lifestyle entailed a number of dietary prohibitions, traditionally said to have included vegetarianism, although modern scholars doubt that he ever advocated complete vegetarianism.\",\n",
    "    \"Doc 6\": \"Leonardo di ser Piero da Vinci[b] (15 April 1452 – 2 May 1519) was an Italian polymath of the High Renaissance who was active as a painter, draughtsman, engineer, scientist, theorist, sculptor, and architect.[3] While his fame initially rested on his achievements as a painter, he also became known for his notebooks, in which he made drawings and notes on a variety of subjects, including anatomy, astronomy, botany, cartography, painting, and paleontology. Leonardo is widely regarded to have been a genius who epitomized the Renaissance humanist ideal,[4] and his collective works comprise a contribution to later generations of artists matched only by that of his younger contemporary, Michelangelo.\",\n",
    "    \"Doc 7\": \"Another document about information retrieval. Information retrieval is very informative. It offers you information.\",\n",
    "    \"Doc 8\": \"Another document about information.\",\n",
    "    \"Doc 9\": \"Arithmetic is the branch of mathematics that deals with the study of numbers using various operations on them, which is taught in elementary school. Algebra is taught in high school which is also branch of mathematics.\",\n",
    "    \"Doc 10\": \"Mathematics is an area of knowledge that includes the topics of numbers, formulas and related structures, shapes and the spaces in which they are contained, and quantities and their changes.\",\n",
    "    \"Doc 11\": \"Geometry is branch of mathematics. Calculus is branch of mathematics. Discrete mathematics is branch of mathematics.\"\n",
    "}"
   ]
  },
  {
   "cell_type": "code",
   "execution_count": 6,
   "metadata": {},
   "outputs": [],
   "source": [
    "def create_sorted_inverted_index(documents: dict) -> dict:\n",
    "    \n",
    "  inverted_index = create_inverted_index(documents, dict())\n",
    "  sort_inverted_index = dict()\n",
    "  for i in inverted_index.keys():\n",
    "    sort_inverted_index[i] = sorted(inverted_index[i].items(), key=lambda x:x[0], reverse=True)\n",
    "\n",
    "  return sort_inverted_index"
   ]
  },
  {
   "attachments": {},
   "cell_type": "markdown",
   "metadata": {},
   "source": [
    "# Query system\n",
    "\n",
    "For the query system, let's implement a simple query system which returns the 3 documents that contain the most number of words matched in the query."
   ]
  },
  {
   "cell_type": "code",
   "execution_count": 7,
   "metadata": {},
   "outputs": [],
   "source": [
    "def intersect_posting(ii1, ii2):\n",
    "\n",
    "  a1 = [x[0] for x in ii1]\n",
    "  a2 = [x[0] for x in ii2]\n",
    "  answers = []\n",
    "  i = 0\n",
    "  j = 0\n",
    "  while i < len(a1) and j < len(a2):\n",
    "    if a1[i] == a2[j]:\n",
    "      answers.append((a1[i], sum([ii1[i][1], ii2[j][1]])))\n",
    "      i += 1\n",
    "      j += 1\n",
    "    elif a1[i] < a2[j]:\n",
    "      i += 1\n",
    "    else:\n",
    "      j += 1\n",
    "  return answers"
   ]
  },
  {
   "cell_type": "code",
   "execution_count": 8,
   "metadata": {},
   "outputs": [],
   "source": [
    "def set_frequency(inverted_index, query_list):\n",
    "  term_freq = dict()\n",
    "  for q in query_list:\n",
    "    doc_list = inverted_index.get(q, (None, 0))\n",
    "    term_freq[q] = sum([x[1] for x in doc_list])\n",
    "  sorted_terms = sorted(term_freq.items(), key=lambda x:x[1])\n",
    "  sorted_terms = [x[0] for x in sorted_terms]\n",
    "  return sorted_terms\n"
   ]
  },
  {
   "cell_type": "code",
   "execution_count": 9,
   "metadata": {},
   "outputs": [],
   "source": [
    "def rest(terms):\n",
    "  try:\n",
    "    terms = terms[1:]\n",
    "  except:\n",
    "    terms = None\n",
    "  return terms"
   ]
  },
  {
   "cell_type": "code",
   "execution_count": 10,
   "metadata": {},
   "outputs": [],
   "source": [
    "\n",
    "def intersect(query_list, sort_inverted_index):\n",
    "  terms = set_frequency(sort_inverted_index, query_list)\n",
    "  first_term = terms[0]\n",
    "  result = sort_inverted_index[first_term]\n",
    "  # rest of terms\n",
    "  terms = rest(terms)\n",
    "  while len(terms) > 0 and len(terms) > 0:\n",
    "    first_term = terms[0]\n",
    "    terms = rest(terms)\n",
    "    result = intersect_posting(result, sort_inverted_index[first_term])\n",
    "  return result"
   ]
  },
  {
   "attachments": {},
   "cell_type": "markdown",
   "metadata": {},
   "source": [
    "# Evaluation metrics\n"
   ]
  },
  {
   "cell_type": "code",
   "execution_count": 11,
   "metadata": {},
   "outputs": [],
   "source": [
    "def construct_eval_df(query_list: list, documents: dict, labels: tuple):\n",
    "  inverted_index = create_sorted_inverted_index(documents)\n",
    "  results = pd.DataFrame([], columns = [\"Documents\", \"Frequency\", \"Query\", \"rank\"])\n",
    "\n",
    "  for q in query_list:\n",
    "    query = preprocess_doc(q)\n",
    "    temp_results = intersect(query, inverted_index)\n",
    "    temp_results = pd.DataFrame(temp_results, columns=[\"Documents\", \"Frequency\"])\n",
    "    temp_results[\"Query\"] = q\n",
    "    temp_results[\"rank\"] = temp_results[\"Frequency\"].rank(method='dense', ascending=False)\n",
    "    results = pd.concat((results, temp_results), axis=0)\n",
    "\n",
    "  labels = pd.DataFrame(labels, columns=[\"Query\", \"Documents\"])\n",
    "  labels[\"IsRelevant\"] = 1\n",
    "\n",
    "  results = results.merge(labels, how=\"left\")\n",
    "  results[\"IsRelevant\"].fillna(0, inplace=True)\n",
    "  return results"
   ]
  },
  {
   "cell_type": "code",
   "execution_count": 12,
   "metadata": {},
   "outputs": [],
   "source": [
    "labels = (\n",
    "    (\"Engineer or Scientist\", \"\"),\n",
    "    (\"Information RETrieval\", \"Doc 7\"),\n",
    "    (\"Mathematics\", \"Doc 10\")\n",
    ")"
   ]
  },
  {
   "cell_type": "code",
   "execution_count": 13,
   "metadata": {},
   "outputs": [],
   "source": [
    "query_list = [\"Engineer or Scientist\", \"Information RETrieval\", \"Mathematics\"]"
   ]
  },
  {
   "cell_type": "code",
   "execution_count": 14,
   "metadata": {},
   "outputs": [
    {
     "data": {
      "text/plain": [
       "['inform', 'retriev']"
      ]
     },
     "execution_count": 14,
     "metadata": {},
     "output_type": "execute_result"
    }
   ],
   "source": [
    "preprocess_doc(\"Information RETrieval\")"
   ]
  },
  {
   "cell_type": "code",
   "execution_count": 15,
   "metadata": {},
   "outputs": [],
   "source": [
    "eval_df = construct_eval_df(query_list, documents, labels)"
   ]
  },
  {
   "cell_type": "code",
   "execution_count": 16,
   "metadata": {},
   "outputs": [
    {
     "data": {
      "text/html": [
       "<div>\n",
       "<style scoped>\n",
       "    .dataframe tbody tr th:only-of-type {\n",
       "        vertical-align: middle;\n",
       "    }\n",
       "\n",
       "    .dataframe tbody tr th {\n",
       "        vertical-align: top;\n",
       "    }\n",
       "\n",
       "    .dataframe thead th {\n",
       "        text-align: right;\n",
       "    }\n",
       "</style>\n",
       "<table border=\"1\" class=\"dataframe\">\n",
       "  <thead>\n",
       "    <tr style=\"text-align: right;\">\n",
       "      <th></th>\n",
       "      <th>Documents</th>\n",
       "      <th>Frequency</th>\n",
       "      <th>Query</th>\n",
       "      <th>rank</th>\n",
       "      <th>IsRelevant</th>\n",
       "    </tr>\n",
       "  </thead>\n",
       "  <tbody>\n",
       "    <tr>\n",
       "      <th>0</th>\n",
       "      <td>Doc 6</td>\n",
       "      <td>2</td>\n",
       "      <td>Engineer or Scientist</td>\n",
       "      <td>1.0</td>\n",
       "      <td>0.0</td>\n",
       "    </tr>\n",
       "    <tr>\n",
       "      <th>1</th>\n",
       "      <td>Doc 9</td>\n",
       "      <td>2</td>\n",
       "      <td>Mathematics</td>\n",
       "      <td>2.0</td>\n",
       "      <td>0.0</td>\n",
       "    </tr>\n",
       "    <tr>\n",
       "      <th>2</th>\n",
       "      <td>Doc 11</td>\n",
       "      <td>4</td>\n",
       "      <td>Mathematics</td>\n",
       "      <td>1.0</td>\n",
       "      <td>0.0</td>\n",
       "    </tr>\n",
       "    <tr>\n",
       "      <th>3</th>\n",
       "      <td>Doc 10</td>\n",
       "      <td>1</td>\n",
       "      <td>Mathematics</td>\n",
       "      <td>3.0</td>\n",
       "      <td>1.0</td>\n",
       "    </tr>\n",
       "  </tbody>\n",
       "</table>\n",
       "</div>"
      ],
      "text/plain": [
       "  Documents Frequency                  Query  rank  IsRelevant\n",
       "0     Doc 6         2  Engineer or Scientist   1.0         0.0\n",
       "1     Doc 9         2            Mathematics   2.0         0.0\n",
       "2    Doc 11         4            Mathematics   1.0         0.0\n",
       "3    Doc 10         1            Mathematics   3.0         1.0"
      ]
     },
     "execution_count": 16,
     "metadata": {},
     "output_type": "execute_result"
    }
   ],
   "source": [
    "eval_df"
   ]
  },
  {
   "attachments": {},
   "cell_type": "markdown",
   "metadata": {},
   "source": [
    "## Mean reciprocal rank"
   ]
  },
  {
   "cell_type": "code",
   "execution_count": 17,
   "metadata": {},
   "outputs": [],
   "source": [
    "def mean_reciprocal_rank(df):\n",
    "\n",
    "  # we have only one or no document matching the information need\n",
    "  df[\"reciprocal_rank\"] = df[\"IsRelevant\"] / df[\"rank\"]\n",
    "  \n",
    "  mean_rr = df.groupby([\"Query\"])[\"reciprocal_rank\"].max().mean()\n",
    "\n",
    "  return mean_rr\n"
   ]
  },
  {
   "cell_type": "code",
   "execution_count": 18,
   "metadata": {},
   "outputs": [
    {
     "data": {
      "text/plain": [
       "0.16666666666666666"
      ]
     },
     "execution_count": 18,
     "metadata": {},
     "output_type": "execute_result"
    }
   ],
   "source": [
    "mean_reciprocal_rank(eval_df)"
   ]
  },
  {
   "attachments": {},
   "cell_type": "markdown",
   "metadata": {},
   "source": [
    "## Mean average precision\n"
   ]
  },
  {
   "cell_type": "code",
   "execution_count": 19,
   "metadata": {},
   "outputs": [],
   "source": [
    "def mean_average_precision(df):\n",
    "  \n",
    "  for q in df[\"Query\"].unique():\n",
    "    ranks = sorted(df[df[\"Query\"]==q][\"rank\"].unique())\n",
    "    query_precision = list()\n",
    "    for r in ranks:\n",
    "      precision = df[(df[\"Query\"]==q)&(df[\"rank\"]>=r)][\"IsRelevant\"].max() / r\n",
    "      query_precision.append(precision)\n",
    "    query_precision.append(sum(query_precision)/len(query_precision))\n",
    "  map = sum(query_precision) / len(query_precision)\n",
    "  return map\n",
    "      "
   ]
  },
  {
   "cell_type": "code",
   "execution_count": 20,
   "metadata": {},
   "outputs": [
    {
     "data": {
      "text/plain": [
       "0.611111111111111"
      ]
     },
     "execution_count": 20,
     "metadata": {},
     "output_type": "execute_result"
    }
   ],
   "source": [
    "mean_average_precision(eval_df)"
   ]
  },
  {
   "attachments": {},
   "cell_type": "markdown",
   "metadata": {},
   "source": [
    "# Logging retriever"
   ]
  },
  {
   "cell_type": "code",
   "execution_count": 21,
   "metadata": {},
   "outputs": [],
   "source": [
    "logs = open(\"data/app.log\")\n",
    "sentence = dict()\n",
    "for i, l in enumerate(logs):\n",
    "  sentence[i] = l\n"
   ]
  },
  {
   "cell_type": "code",
   "execution_count": 2,
   "metadata": {},
   "outputs": [
    {
     "data": {
      "text/plain": [
       "135.3"
      ]
     },
     "execution_count": 2,
     "metadata": {},
     "output_type": "execute_result"
    }
   ],
   "source": [
    "height = 3\n",
    "buffer = 1\n",
    "small_bedroom = 2.2* height\n",
    "big_bathroom = 1.5 * height\n",
    "living_room = (0.6 + 2.85 + 0.6 + 2.8 + buffer) * height\n",
    "bedroom = (5 + 1.5 + 3 + 1.5) * height\n",
    "\n",
    "total = small_bedroom + big_bathroom + living_room + bedroom\n",
    "total * 2"
   ]
  },
  {
   "cell_type": "code",
   "execution_count": 4,
   "metadata": {},
   "outputs": [
    {
     "data": {
      "text/plain": [
       "156"
      ]
     },
     "execution_count": 4,
     "metadata": {},
     "output_type": "execute_result"
    }
   ],
   "source": []
  },
  {
   "cell_type": "code",
   "execution_count": null,
   "metadata": {},
   "outputs": [],
   "source": [
    "\n",
    "\n",
    "inverted_index = create_sorted_inverted_index(documents)\n",
    "results = pd.DataFrame([], columns = [\"Documents\", \"Frequency\", \"Query\", \"rank\"])\n",
    "\n",
    "for q in query_list:\n",
    "  query = preprocess_doc(q)\n",
    "  temp_results = intersect(query, inverted_index)\n",
    "  temp_results = pd.DataFrame(temp_results, columns=[\"Documents\", \"Frequency\"])\n",
    "  temp_results[\"Query\"] = q\n",
    "  temp_results[\"rank\"] = temp_results[\"Frequency\"].rank(method='dense', ascending=False)\n",
    "  results = pd.concat((results, temp_results), axis=0)\n",
    "\n",
    "labels = pd.DataFrame(labels, columns=[\"Query\", \"Documents\"])\n",
    "labels[\"IsRelevant\"] = 1\n"
   ]
  },
  {
   "cell_type": "markdown",
   "metadata": {},
   "source": []
  }
 ],
 "metadata": {
  "kernelspec": {
   "display_name": "Python 3",
   "language": "python",
   "name": "python3"
  },
  "language_info": {
   "codemirror_mode": {
    "name": "ipython",
    "version": 3
   },
   "file_extension": ".py",
   "mimetype": "text/x-python",
   "name": "python",
   "nbconvert_exporter": "python",
   "pygments_lexer": "ipython3",
   "version": "3.10.6"
  },
  "orig_nbformat": 4,
  "vscode": {
   "interpreter": {
    "hash": "916dbcbb3f70747c44a77c7bcd40155683ae19c65e1c03b4aa3499c5328201f1"
   }
  }
 },
 "nbformat": 4,
 "nbformat_minor": 2
}
